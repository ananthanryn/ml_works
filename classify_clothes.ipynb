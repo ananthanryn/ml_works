{
 "cells": [
  {
   "cell_type": "code",
   "execution_count": 5,
   "metadata": {},
   "outputs": [
    {
     "name": "stdout",
     "output_type": "stream",
     "text": [
      "2.2.0\n",
      "2.3.0-tf\n",
      "Num GPUs Available:  1\n"
     ]
    }
   ],
   "source": [
    "import pandas as pd\n",
    "import gzip\n",
    "import matplotlib\n",
    "import numpy as np\n",
    "import matplotlib.pyplot as plt\n",
    "%matplotlib inline\n",
    "import tensorflow as tf\n",
    "from tensorflow import keras\n",
    "from tensorflow.keras import layers, models\n",
    "from tensorflow.keras.models import load_model\n",
    "import os\n",
    "print(tf.compat.v1.VERSION)\n",
    "print(tf.keras.__version__)\n",
    "print(\"Num GPUs Available: \", len(tf.config.experimental.list_physical_devices('GPU')))"
   ]
  },
  {
   "cell_type": "code",
   "execution_count": 6,
   "metadata": {},
   "outputs": [
    {
     "name": "stdout",
     "output_type": "stream",
     "text": [
      "1 Physical GPUs, 1 Logical GPUs\n"
     ]
    }
   ],
   "source": [
    "gpus = tf.config.experimental.list_physical_devices('GPU')\n",
    "if gpus:\n",
    "  try:\n",
    "    for gpu in gpus:\n",
    "      tf.config.experimental.set_memory_growth(gpu, True)\n",
    "    logical_gpus = tf.config.experimental.list_logical_devices('GPU')\n",
    "    print(len(gpus), \"Physical GPUs,\", len(logical_gpus), \"Logical GPUs\")\n",
    "  except RuntimeError as e:\n",
    "    print(e)"
   ]
  },
  {
   "cell_type": "code",
   "execution_count": 7,
   "metadata": {},
   "outputs": [],
   "source": [
    "def showImage(data):\n",
    "    some_article = data   # Selecting the image.\n",
    "    some_article_image = some_article.reshape(28, 28) # Reshaping it to get the 28x28 pixels\n",
    "    plt.imshow(some_article_image, cmap = matplotlib.cm.binary, interpolation=\"nearest\")\n",
    "    plt.axis(\"off\")\n",
    "    plt.show()"
   ]
  },
  {
   "cell_type": "code",
   "execution_count": 8,
   "metadata": {},
   "outputs": [],
   "source": [
    "class_names = ['T-shirt/top', 'Trouser', 'Pullover', 'Dress', 'Coat', \n",
    "               'Sandal', 'Shirt', 'Sneaker', 'Bag', 'Ankle boot']"
   ]
  },
  {
   "cell_type": "code",
   "execution_count": 24,
   "metadata": {},
   "outputs": [],
   "source": [
    "filePath_train_set = 'datasets/train-images-idx3-ubyte.gz'\n",
    "filePath_train_label = 'datasets/train-labels-idx1-ubyte.gz'\n",
    "filePath_test_set = 'datasets/t10k-images-idx3-ubyte.gz'\n",
    "filePath_test_label = 'datasets/t10k-labels-idx1-ubyte.gz'\n",
    "\n",
    "with gzip.open(filePath_train_label, 'rb') as trainLbpath:\n",
    "     trainLabel = np.frombuffer(trainLbpath.read(), dtype=np.uint8,\n",
    "                               offset=8)\n",
    "with gzip.open(filePath_train_set, 'rb') as trainSetpath:\n",
    "     trainSet = np.frombuffer(trainSetpath.read(), dtype=np.uint8,\n",
    "                               offset=16).reshape(len(trainLabel), 784)\n",
    "\n",
    "with gzip.open(filePath_test_label, 'rb') as testLbpath:\n",
    "     testLabel = np.frombuffer(testLbpath.read(), dtype=np.uint8,\n",
    "                               offset=8)\n",
    "\n",
    "with gzip.open(filePath_test_set, 'rb') as testSetpath:\n",
    "     testSet = np.frombuffer(testSetpath.read(), dtype=np.uint8,\n",
    "                               offset=16).reshape(len(testLabel), 784)"
   ]
  },
  {
   "cell_type": "code",
   "execution_count": 25,
   "metadata": {},
   "outputs": [
    {
     "name": "stdout",
     "output_type": "stream",
     "text": [
      "(60000, 784)\n",
      "(60000,)\n",
      "(10000, 784)\n",
      "(10000,)\n"
     ]
    }
   ],
   "source": [
    "print(trainSet.shape)\n",
    "print(trainLabel.shape)\n",
    "print(testSet.shape)\n",
    "print(testLabel.shape)"
   ]
  },
  {
   "cell_type": "code",
   "execution_count": 26,
   "metadata": {},
   "outputs": [
    {
     "name": "stdout",
     "output_type": "stream",
     "text": [
      "(60000, 784)\n",
      "(60000,)\n",
      "(10000, 784)\n",
      "(10000,)\n"
     ]
    }
   ],
   "source": [
    "X_train, X_test, y_train, y_test = trainSet, testSet, trainLabel, testLabel\n",
    "\n",
    "print(X_train.shape)\n",
    "print(y_train.shape)\n",
    "print(X_test.shape)\n",
    "print(y_test.shape)"
   ]
  },
  {
   "cell_type": "code",
   "execution_count": 27,
   "metadata": {},
   "outputs": [
    {
     "data": {
      "image/png": "[encoded data removed]",
      "text/plain": [
       "<Figure size 432x288 with 1 Axes>"
      ]
     },
     "metadata": {
      "needs_background": "light"
     },
     "output_type": "display_data"
    }
   ],
   "source": [
    "showImage(X_train[220])"
   ]
  },
  {
   "cell_type": "code",
   "execution_count": 28,
   "metadata": {},
   "outputs": [
    {
     "data": {
      "text/plain": [
       "8"
      ]
     },
     "execution_count": 28,
     "metadata": {},
     "output_type": "execute_result"
    }
   ],
   "source": [
    "y_train[220]"
   ]
  },
  {
   "cell_type": "code",
   "execution_count": 29,
   "metadata": {},
   "outputs": [],
   "source": [
    "train_images = X_train.reshape((60000, 28, 28, 1))\n",
    "test_images = X_test.reshape((10000, 28, 28, 1))"
   ]
  },
  {
   "cell_type": "code",
   "execution_count": 30,
   "metadata": {},
   "outputs": [
    {
     "data": {
      "text/plain": [
       "(60000, 28, 28, 1)"
      ]
     },
     "execution_count": 30,
     "metadata": {},
     "output_type": "execute_result"
    }
   ],
   "source": [
    "train_images.shape"
   ]
  },
  {
   "cell_type": "code",
   "execution_count": 31,
   "metadata": {},
   "outputs": [
    {
     "data": {
      "text/plain": [
       "<matplotlib.image.AxesImage at 0x7f6fe5383520>"
      ]
     },
     "execution_count": 31,
     "metadata": {},
     "output_type": "execute_result"
    },
    {
     "data": {
      "image/png": "[encoded data removed]",
      "text/plain": [
       "<Figure size 432x288 with 1 Axes>"
      ]
     },
     "metadata": {
      "needs_background": "light"
     },
     "output_type": "display_data"
    }
   ],
   "source": [
    "plt.figure()\n",
    "plt.imshow(np.squeeze(train_images[220]))"
   ]
  },
  {
   "cell_type": "code",
   "execution_count": 32,
   "metadata": {},
   "outputs": [
    {
     "data": {
      "image/png": "[encoded data removed]",
      "text/plain": [
       "<Figure size 720x720 with 15 Axes>"
      ]
     },
     "metadata": {},
     "output_type": "display_data"
    }
   ],
   "source": [
    "plt.figure(figsize=(10,10))\n",
    "for i in range(15):\n",
    "    plt.subplot(5,5,i+1)\n",
    "    plt.xticks([])\n",
    "    plt.yticks([])\n",
    "    plt.imshow(np.squeeze(train_images[i]), cmap=plt.cm.binary)\n",
    "    plt.xlabel(class_names[y_train[i]])\n",
    "plt.show()"
   ]
  },
  {
   "cell_type": "code",
   "execution_count": 33,
   "metadata": {},
   "outputs": [],
   "source": [
    "train_images_norm = train_images / 255.0"
   ]
  },
  {
   "cell_type": "code",
   "execution_count": 34,
   "metadata": {},
   "outputs": [],
   "source": [
    "test_images_norm = test_images / 255.0"
   ]
  },
  {
   "cell_type": "code",
   "execution_count": 35,
   "metadata": {},
   "outputs": [],
   "source": [
    "conv1 = layers.Conv2D(32, (3,3), activation='relu', input_shape=(28,28,1))"
   ]
  },
  {
   "cell_type": "code",
   "execution_count": 36,
   "metadata": {},
   "outputs": [],
   "source": [
    "conv2 = layers.Conv2D(64, (3,3), activation='relu')"
   ]
  },
  {
   "cell_type": "code",
   "execution_count": 37,
   "metadata": {},
   "outputs": [],
   "source": [
    "conv3 = layers.Conv2D(128, (3,3), activation='relu')"
   ]
  },
  {
   "cell_type": "code",
   "execution_count": 38,
   "metadata": {},
   "outputs": [],
   "source": [
    "max_pool_1 = layers.MaxPooling2D((2,2))\n",
    "max_pool_2 = layers.MaxPooling2D((2,2))\n",
    "max_pool_3 = layers.MaxPooling2D((2,2))"
   ]
  },
  {
   "cell_type": "code",
   "execution_count": 39,
   "metadata": {},
   "outputs": [],
   "source": [
    "flat_layer = layers.Flatten()"
   ]
  },
  {
   "cell_type": "code",
   "execution_count": 40,
   "metadata": {},
   "outputs": [],
   "source": [
    "fc = layers.Dense(128, activation='relu')"
   ]
  },
  {
   "cell_type": "code",
   "execution_count": 41,
   "metadata": {},
   "outputs": [],
   "source": [
    "output = layers.Dense(10, 'softmax')"
   ]
  },
  {
   "cell_type": "code",
   "execution_count": 42,
   "metadata": {},
   "outputs": [],
   "source": [
    "model = models.Sequential()\n",
    "\n",
    "model.add(conv1)\n",
    "model.add(conv2)\n",
    "model.add(conv3)\n",
    "model.add(max_pool_1)\n",
    "model.add(flat_layer)\n",
    "model.add(fc)\n",
    "model.add(output)"
   ]
  },
  {
   "cell_type": "code",
   "execution_count": 43,
   "metadata": {},
   "outputs": [
    {
     "name": "stdout",
     "output_type": "stream",
     "text": [
      "Model: \"sequential\"\n",
      "_________________________________________________________________\n",
      "Layer (type)                 Output Shape              Param #   \n",
      "=================================================================\n",
      "conv2d (Conv2D)              (None, 26, 26, 32)        320       \n",
      "_________________________________________________________________\n",
      "conv2d_1 (Conv2D)            (None, 24, 24, 64)        18496     \n",
      "_________________________________________________________________\n",
      "conv2d_2 (Conv2D)            (None, 22, 22, 128)       73856     \n",
      "_________________________________________________________________\n",
      "max_pooling2d (MaxPooling2D) (None, 11, 11, 128)       0         \n",
      "_________________________________________________________________\n",
      "flatten (Flatten)            (None, 15488)             0         \n",
      "_________________________________________________________________\n",
      "dense (Dense)                (None, 128)               1982592   \n",
      "_________________________________________________________________\n",
      "dense_1 (Dense)              (None, 10)                1290      \n",
      "=================================================================\n",
      "Total params: 2,076,554\n",
      "Trainable params: 2,076,554\n",
      "Non-trainable params: 0\n",
      "_________________________________________________________________\n"
     ]
    }
   ],
   "source": [
    "model.summary()"
   ]
  },
  {
   "cell_type": "code",
   "execution_count": 44,
   "metadata": {},
   "outputs": [],
   "source": [
    "model.compile(optimizer='adam',\n",
    "              loss='sparse_categorical_crossentropy',\n",
    "              metrics=['accuracy'])"
   ]
  },
  {
   "cell_type": "code",
   "execution_count": 45,
   "metadata": {},
   "outputs": [
    {
     "name": "stdout",
     "output_type": "stream",
     "text": [
      "Epoch 1/20\n",
      "106/106 [==============================] - 20s 192ms/step - loss: 0.5943 - accuracy: 0.7880 - val_loss: 0.3838 - val_accuracy: 0.8628\n",
      "Epoch 2/20\n",
      "106/106 [==============================] - 7s 63ms/step - loss: 0.3258 - accuracy: 0.8840 - val_loss: 0.3062 - val_accuracy: 0.8893\n",
      "Epoch 3/20\n",
      "106/106 [==============================] - 7s 64ms/step - loss: 0.2616 - accuracy: 0.9060 - val_loss: 0.2767 - val_accuracy: 0.9022\n",
      "Epoch 4/20\n",
      "106/106 [==============================] - 7s 64ms/step - loss: 0.2296 - accuracy: 0.9165 - val_loss: 0.2609 - val_accuracy: 0.9045\n",
      "Epoch 5/20\n",
      "106/106 [==============================] - 7s 64ms/step - loss: 0.2039 - accuracy: 0.9246 - val_loss: 0.2383 - val_accuracy: 0.9140\n",
      "Epoch 6/20\n",
      "106/106 [==============================] - 7s 65ms/step - loss: 0.1718 - accuracy: 0.9372 - val_loss: 0.2181 - val_accuracy: 0.9225\n",
      "Epoch 7/20\n",
      "106/106 [==============================] - 7s 64ms/step - loss: 0.1479 - accuracy: 0.9469 - val_loss: 0.2198 - val_accuracy: 0.9215\n",
      "Epoch 8/20\n",
      "106/106 [==============================] - 7s 64ms/step - loss: 0.1266 - accuracy: 0.9532 - val_loss: 0.2241 - val_accuracy: 0.9237\n",
      "Epoch 9/20\n",
      "106/106 [==============================] - 7s 64ms/step - loss: 0.1081 - accuracy: 0.9608 - val_loss: 0.2424 - val_accuracy: 0.9223\n",
      "Epoch 10/20\n",
      "106/106 [==============================] - 7s 64ms/step - loss: 0.0900 - accuracy: 0.9676 - val_loss: 0.2419 - val_accuracy: 0.9262\n",
      "Epoch 11/20\n",
      "106/106 [==============================] - 7s 64ms/step - loss: 0.0767 - accuracy: 0.9719 - val_loss: 0.2578 - val_accuracy: 0.9237\n",
      "Epoch 12/20\n",
      "106/106 [==============================] - 7s 64ms/step - loss: 0.0574 - accuracy: 0.9800 - val_loss: 0.2793 - val_accuracy: 0.9197\n",
      "Epoch 13/20\n",
      "106/106 [==============================] - 7s 64ms/step - loss: 0.0470 - accuracy: 0.9835 - val_loss: 0.2941 - val_accuracy: 0.9242\n",
      "Epoch 14/20\n",
      "106/106 [==============================] - 7s 64ms/step - loss: 0.0358 - accuracy: 0.9869 - val_loss: 0.3099 - val_accuracy: 0.9280\n",
      "Epoch 15/20\n",
      "106/106 [==============================] - 7s 64ms/step - loss: 0.0260 - accuracy: 0.9911 - val_loss: 0.3479 - val_accuracy: 0.9258\n",
      "Epoch 16/20\n",
      "106/106 [==============================] - 7s 65ms/step - loss: 0.0243 - accuracy: 0.9917 - val_loss: 0.3641 - val_accuracy: 0.9242\n",
      "Epoch 17/20\n",
      "106/106 [==============================] - 7s 64ms/step - loss: 0.0176 - accuracy: 0.9943 - val_loss: 0.4049 - val_accuracy: 0.9247\n",
      "Epoch 18/20\n",
      "106/106 [==============================] - 7s 64ms/step - loss: 0.0146 - accuracy: 0.9952 - val_loss: 0.4393 - val_accuracy: 0.9172\n",
      "Epoch 19/20\n",
      "106/106 [==============================] - 7s 64ms/step - loss: 0.0133 - accuracy: 0.9956 - val_loss: 0.4339 - val_accuracy: 0.9203\n",
      "Epoch 20/20\n",
      "106/106 [==============================] - 7s 64ms/step - loss: 0.0139 - accuracy: 0.9955 - val_loss: 0.4291 - val_accuracy: 0.9262\n"
     ]
    },
    {
     "data": {
      "text/plain": [
       "<tensorflow.python.keras.callbacks.History at 0x7f6fe4566820>"
      ]
     },
     "execution_count": 45,
     "metadata": {},
     "output_type": "execute_result"
    }
   ],
   "source": [
    "model.fit(train_images_norm, y_train, epochs=20, batch_size=512, shuffle=True, validation_split=0.1)"
   ]
  },
  {
   "cell_type": "code",
   "execution_count": 46,
   "metadata": {},
   "outputs": [
    {
     "name": "stdout",
     "output_type": "stream",
     "text": [
      "313/313 [==============================] - 6s 18ms/step - loss: 0.4488 - accuracy: 0.9246\n"
     ]
    }
   ],
   "source": [
    "test_loss, test_accuracy = model.evaluate(test_images_norm, y_test)"
   ]
  },
  {
   "cell_type": "code",
   "execution_count": 47,
   "metadata": {},
   "outputs": [
    {
     "name": "stdout",
     "output_type": "stream",
     "text": [
      "Accuracy =  0.9246000051498413\n"
     ]
    }
   ],
   "source": [
    "print('Accuracy = ',test_accuracy)"
   ]
  },
  {
   "cell_type": "code",
   "execution_count": 48,
   "metadata": {},
   "outputs": [],
   "source": [
    "drop_1 = keras.layers.Dropout(0.5)\n",
    "drop_2 = keras.layers.Dropout(0.5)\n",
    "drop_3 = keras.layers.Dropout(0.5)"
   ]
  },
  {
   "cell_type": "code",
   "execution_count": 49,
   "metadata": {},
   "outputs": [],
   "source": [
    "new_model = models.Sequential()\n",
    "\n",
    "new_model.add(conv1)\n",
    "new_model.add(conv2)\n",
    "new_model.add(max_pool_2)\n",
    "new_model.add(drop_2)\n",
    "new_model.add(conv3)\n",
    "new_model.add(max_pool_3)\n",
    "new_model.add(drop_3)\n",
    "new_model.add(layers.Flatten())\n",
    "new_model.add(layers.Dense(128, activation='relu'))\n",
    "new_model.add(output)"
   ]
  },
  {
   "cell_type": "code",
   "execution_count": 50,
   "metadata": {},
   "outputs": [
    {
     "name": "stdout",
     "output_type": "stream",
     "text": [
      "Model: \"sequential_1\"\n",
      "_________________________________________________________________\n",
      "Layer (type)                 Output Shape              Param #   \n",
      "=================================================================\n",
      "conv2d (Conv2D)              (None, 26, 26, 32)        320       \n",
      "_________________________________________________________________\n",
      "conv2d_1 (Conv2D)            (None, 24, 24, 64)        18496     \n",
      "_________________________________________________________________\n",
      "max_pooling2d_1 (MaxPooling2 (None, 12, 12, 64)        0         \n",
      "_________________________________________________________________\n",
      "dropout_1 (Dropout)          (None, 12, 12, 64)        0         \n",
      "_________________________________________________________________\n",
      "conv2d_2 (Conv2D)            multiple                  73856     \n",
      "_________________________________________________________________\n",
      "max_pooling2d_2 (MaxPooling2 (None, 5, 5, 128)         0         \n",
      "_________________________________________________________________\n",
      "dropout_2 (Dropout)          (None, 5, 5, 128)         0         \n",
      "_________________________________________________________________\n",
      "flatten_1 (Flatten)          (None, 3200)              0         \n",
      "_________________________________________________________________\n",
      "dense_2 (Dense)              (None, 128)               409728    \n",
      "_________________________________________________________________\n",
      "dense_1 (Dense)              (None, 10)                1290      \n",
      "=================================================================\n",
      "Total params: 503,690\n",
      "Trainable params: 503,690\n",
      "Non-trainable params: 0\n",
      "_________________________________________________________________\n"
     ]
    }
   ],
   "source": [
    "new_model.summary()"
   ]
  },
  {
   "cell_type": "code",
   "execution_count": 51,
   "metadata": {},
   "outputs": [],
   "source": [
    "new_model.compile(optimizer='adam',\n",
    "              loss='sparse_categorical_crossentropy',\n",
    "              metrics=['accuracy'])"
   ]
  },
  {
   "cell_type": "code",
   "execution_count": 52,
   "metadata": {},
   "outputs": [
    {
     "name": "stdout",
     "output_type": "stream",
     "text": [
      "Epoch 1/30\n",
      "106/106 [==============================] - 10s 92ms/step - loss: 0.4988 - accuracy: 0.8229 - val_loss: 0.3024 - val_accuracy: 0.8938\n",
      "Epoch 2/30\n",
      "106/106 [==============================] - 4s 35ms/step - loss: 0.3272 - accuracy: 0.8813 - val_loss: 0.2593 - val_accuracy: 0.9043\n",
      "Epoch 3/30\n",
      "106/106 [==============================] - 4s 35ms/step - loss: 0.2912 - accuracy: 0.8933 - val_loss: 0.2624 - val_accuracy: 0.9072\n",
      "Epoch 4/30\n",
      "106/106 [==============================] - 4s 35ms/step - loss: 0.2705 - accuracy: 0.8991 - val_loss: 0.2442 - val_accuracy: 0.9112\n",
      "Epoch 5/30\n",
      "106/106 [==============================] - 4s 37ms/step - loss: 0.2546 - accuracy: 0.9059 - val_loss: 0.2268 - val_accuracy: 0.9182\n",
      "Epoch 6/30\n",
      "106/106 [==============================] - 4s 37ms/step - loss: 0.2437 - accuracy: 0.9099 - val_loss: 0.2296 - val_accuracy: 0.9148\n",
      "Epoch 7/30\n",
      "106/106 [==============================] - 4s 37ms/step - loss: 0.2289 - accuracy: 0.9160 - val_loss: 0.2213 - val_accuracy: 0.9192\n",
      "Epoch 8/30\n",
      "106/106 [==============================] - 4s 37ms/step - loss: 0.2209 - accuracy: 0.9166 - val_loss: 0.2083 - val_accuracy: 0.9225\n",
      "Epoch 9/30\n",
      "106/106 [==============================] - 4s 36ms/step - loss: 0.2115 - accuracy: 0.9205 - val_loss: 0.2100 - val_accuracy: 0.9217\n",
      "Epoch 10/30\n",
      "106/106 [==============================] - 4s 37ms/step - loss: 0.2043 - accuracy: 0.9237 - val_loss: 0.2046 - val_accuracy: 0.9247\n",
      "Epoch 11/30\n",
      "106/106 [==============================] - 4s 37ms/step - loss: 0.1965 - accuracy: 0.9266 - val_loss: 0.1978 - val_accuracy: 0.9255\n",
      "Epoch 12/30\n",
      "106/106 [==============================] - 4s 36ms/step - loss: 0.1913 - accuracy: 0.9279 - val_loss: 0.2009 - val_accuracy: 0.9265\n",
      "Epoch 13/30\n",
      "106/106 [==============================] - 4s 35ms/step - loss: 0.1874 - accuracy: 0.9293 - val_loss: 0.1930 - val_accuracy: 0.9307\n",
      "Epoch 14/30\n",
      "106/106 [==============================] - 4s 36ms/step - loss: 0.1811 - accuracy: 0.9327 - val_loss: 0.1930 - val_accuracy: 0.9290\n",
      "Epoch 15/30\n",
      "106/106 [==============================] - 4s 37ms/step - loss: 0.1785 - accuracy: 0.9321 - val_loss: 0.1906 - val_accuracy: 0.9267\n",
      "Epoch 16/30\n",
      "106/106 [==============================] - 4s 37ms/step - loss: 0.1705 - accuracy: 0.9358 - val_loss: 0.1921 - val_accuracy: 0.9287\n",
      "Epoch 17/30\n",
      "106/106 [==============================] - 4s 36ms/step - loss: 0.1696 - accuracy: 0.9347 - val_loss: 0.1942 - val_accuracy: 0.9298\n",
      "Epoch 18/30\n",
      "106/106 [==============================] - 4s 35ms/step - loss: 0.1612 - accuracy: 0.9388 - val_loss: 0.1863 - val_accuracy: 0.9322\n",
      "Epoch 19/30\n",
      "106/106 [==============================] - 4s 37ms/step - loss: 0.1572 - accuracy: 0.9408 - val_loss: 0.1839 - val_accuracy: 0.9332\n",
      "Epoch 20/30\n",
      "106/106 [==============================] - 4s 36ms/step - loss: 0.1539 - accuracy: 0.9425 - val_loss: 0.1854 - val_accuracy: 0.9325\n",
      "Epoch 21/30\n",
      "106/106 [==============================] - 4s 36ms/step - loss: 0.1493 - accuracy: 0.9435 - val_loss: 0.1850 - val_accuracy: 0.9348\n",
      "Epoch 22/30\n",
      "106/106 [==============================] - 4s 35ms/step - loss: 0.1483 - accuracy: 0.9443 - val_loss: 0.1848 - val_accuracy: 0.9322\n",
      "Epoch 23/30\n",
      "106/106 [==============================] - 4s 36ms/step - loss: 0.1437 - accuracy: 0.9453 - val_loss: 0.1858 - val_accuracy: 0.9328\n",
      "Epoch 24/30\n",
      "106/106 [==============================] - 4s 37ms/step - loss: 0.1401 - accuracy: 0.9471 - val_loss: 0.1822 - val_accuracy: 0.9338\n",
      "Epoch 25/30\n",
      "106/106 [==============================] - 4s 36ms/step - loss: 0.1349 - accuracy: 0.9489 - val_loss: 0.1826 - val_accuracy: 0.9333\n",
      "Epoch 26/30\n",
      "106/106 [==============================] - 4s 36ms/step - loss: 0.1368 - accuracy: 0.9488 - val_loss: 0.1787 - val_accuracy: 0.9345\n",
      "Epoch 27/30\n",
      "106/106 [==============================] - 4s 37ms/step - loss: 0.1351 - accuracy: 0.9490 - val_loss: 0.1837 - val_accuracy: 0.9355\n",
      "Epoch 28/30\n",
      "106/106 [==============================] - 4s 36ms/step - loss: 0.1297 - accuracy: 0.9499 - val_loss: 0.1876 - val_accuracy: 0.9327\n",
      "Epoch 29/30\n",
      "106/106 [==============================] - 4s 36ms/step - loss: 0.1240 - accuracy: 0.9529 - val_loss: 0.1863 - val_accuracy: 0.9335\n",
      "Epoch 30/30\n",
      "106/106 [==============================] - 4s 37ms/step - loss: 0.1226 - accuracy: 0.9532 - val_loss: 0.1868 - val_accuracy: 0.9340\n"
     ]
    },
    {
     "data": {
      "text/plain": [
       "<tensorflow.python.keras.callbacks.History at 0x7f6fd807a490>"
      ]
     },
     "execution_count": 52,
     "metadata": {},
     "output_type": "execute_result"
    }
   ],
   "source": [
    "new_model.fit(train_images_norm, y_train, epochs=30, batch_size=512, shuffle=True, validation_split=0.1)"
   ]
  },
  {
   "cell_type": "code",
   "execution_count": 53,
   "metadata": {},
   "outputs": [
    {
     "name": "stdout",
     "output_type": "stream",
     "text": [
      "313/313 [==============================] - 2s 7ms/step - loss: 0.1901 - accuracy: 0.9344\n"
     ]
    }
   ],
   "source": [
    "test_loss, test_accuracy = new_model.evaluate(test_images_norm, y_test)"
   ]
  },
  {
   "cell_type": "code",
   "execution_count": 54,
   "metadata": {},
   "outputs": [
    {
     "name": "stdout",
     "output_type": "stream",
     "text": [
      "Accuracy =  0.9344000220298767\n"
     ]
    }
   ],
   "source": [
    "print('Accuracy = ',test_accuracy)"
   ]
  },
  {
   "cell_type": "code",
   "execution_count": null,
   "metadata": {},
   "outputs": [],
   "source": []
  }
 ],
 "metadata": {
  "kernelspec": {
   "display_name": "Python 3",
   "language": "python",
   "name": "python3"
  },
  "language_info": {
   "codemirror_mode": {
    "name": "ipython",
    "version": 3
   },
   "file_extension": ".py",
   "mimetype": "text/x-python",
   "name": "python",
   "nbconvert_exporter": "python",
   "pygments_lexer": "ipython3",
   "version": "3.8.5"
  },
  "toc": {
   "base_numbering": 1,
   "nav_menu": {},
   "number_sections": true,
   "sideBar": true,
   "skip_h1_title": false,
   "title_cell": "Table of Contents",
   "title_sidebar": "Contents",
   "toc_cell": false,
   "toc_position": {},
   "toc_section_display": true,
   "toc_window_display": false
  }
 },
 "nbformat": 4,
 "nbformat_minor": 2
}
