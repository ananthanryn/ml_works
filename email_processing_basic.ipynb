{
 "cells": [
  {
   "cell_type": "code",
   "execution_count": 1,
   "metadata": {},
   "outputs": [],
   "source": [
    "def number_of_lines():\n",
    "    fhand = open('datasets/mbox.txt')\n",
    "    inp = fhand.read()\n",
    "    fhand.close()\n",
    "    count = 0\n",
    "    for line in inp:\n",
    "        if line == '\\n':\n",
    "            count += 1\n",
    "    return count"
   ]
  },
  {
   "cell_type": "code",
   "execution_count": 2,
   "metadata": {},
   "outputs": [
    {
     "data": {
      "text/plain": [
       "132045"
      ]
     },
     "execution_count": 2,
     "metadata": {},
     "output_type": "execute_result"
    }
   ],
   "source": [
    "number_of_lines()"
   ]
  },
  {
   "cell_type": "code",
   "execution_count": 3,
   "metadata": {},
   "outputs": [],
   "source": [
    "def count_number_of_lines():\n",
    "    fhand = open('datasets/mbox.txt')\n",
    "    count = 0\n",
    "    for line in fhand:\n",
    "        line = line.rstrip()\n",
    "        if line.startswith('Subject:'):\n",
    "            count += 1\n",
    "    fhand.close()\n",
    "    return count"
   ]
  },
  {
   "cell_type": "code",
   "execution_count": 4,
   "metadata": {},
   "outputs": [
    {
     "data": {
      "text/plain": [
       "1797"
      ]
     },
     "execution_count": 4,
     "metadata": {},
     "output_type": "execute_result"
    }
   ],
   "source": [
    "count_number_of_lines()"
   ]
  },
  {
   "cell_type": "code",
   "execution_count": 5,
   "metadata": {},
   "outputs": [],
   "source": [
    "def average_spam_confidence():\n",
    "    fhand = open('datasets/mbox.txt')\n",
    "    count = 0\n",
    "    avg_conf = float(0) \n",
    "    for line in fhand:\n",
    "        line = line.rstrip()\n",
    "        if line.startswith('X-DSPAM-Confidence:'):\n",
    "            a = line.split(':')\n",
    "            count += 1\n",
    "            avg_conf += float(a[1])\n",
    "    fhand.close()\n",
    "    return avg_conf/float(count)"
   ]
  },
  {
   "cell_type": "code",
   "execution_count": 6,
   "metadata": {},
   "outputs": [
    {
     "data": {
      "text/plain": [
       "0.8941280467445736"
      ]
     },
     "execution_count": 6,
     "metadata": {},
     "output_type": "execute_result"
    }
   ],
   "source": [
    "average_spam_confidence()"
   ]
  },
  {
   "cell_type": "code",
   "execution_count": 7,
   "metadata": {},
   "outputs": [],
   "source": [
    "def find_email_sent_days():\n",
    "    fhand = open('datasets/mbox.txt')\n",
    "    dic = dict()\n",
    "    for line in fhand:\n",
    "        line = line.rstrip()\n",
    "        if (line.startswith('From') and len(line.split())==7):\n",
    "            parts = line.split()\n",
    "            dic[parts[2]] = dic.get(parts[2],0)+1\n",
    "    fhand.close()\n",
    "    return dic"
   ]
  },
  {
   "cell_type": "code",
   "execution_count": 8,
   "metadata": {},
   "outputs": [
    {
     "data": {
      "text/plain": [
       "{'Sat': 61,\n",
       " 'Fri': 315,\n",
       " 'Thu': 392,\n",
       " 'Wed': 292,\n",
       " 'Tue': 372,\n",
       " 'Mon': 299,\n",
       " 'Sun': 66}"
      ]
     },
     "execution_count": 8,
     "metadata": {},
     "output_type": "execute_result"
    }
   ],
   "source": [
    "find_email_sent_days()"
   ]
  },
  {
   "cell_type": "code",
   "execution_count": 9,
   "metadata": {},
   "outputs": [],
   "source": [
    "def count_message_from_email():\n",
    "    fhand = open('datasets/mbox.txt')\n",
    "    dic = dict()\n",
    "    for line in fhand:\n",
    "        line = line.rstrip()\n",
    "        if (line.startswith('From') and len(line.split())==7):\n",
    "            parts = line.split()\n",
    "            dic[parts[1]] = dic.get(parts[1],0)+1\n",
    "    fhand.close()\n",
    "    return dic"
   ]
  },
  {
   "cell_type": "code",
   "execution_count": 10,
   "metadata": {},
   "outputs": [
    {
     "data": {
      "text/plain": [
       "{'stephen.marquard@uct.ac.za': 29,\n",
       " 'louis@media.berkeley.edu': 24,\n",
       " 'zqian@umich.edu': 195,\n",
       " 'rjlowe@iupui.edu': 90,\n",
       " 'cwen@iupui.edu': 158,\n",
       " 'gsilver@umich.edu': 28,\n",
       " 'wagnermr@iupui.edu': 44,\n",
       " 'antranig@caret.cam.ac.uk': 18,\n",
       " 'gopal.ramasammycook@gmail.com': 25,\n",
       " 'david.horwitz@uct.ac.za': 67,\n",
       " 'ray@media.berkeley.edu': 32,\n",
       " 'mmmay@indiana.edu': 161,\n",
       " 'stuart.freeman@et.gatech.edu': 17,\n",
       " 'tnguyen@iupui.edu': 6,\n",
       " 'chmaurer@iupui.edu': 111,\n",
       " 'aaronz@vt.edu': 110,\n",
       " 'ian@caret.cam.ac.uk': 96,\n",
       " 'csev@umich.edu': 19,\n",
       " 'jimeng@umich.edu': 93,\n",
       " 'josrodri@iupui.edu': 28,\n",
       " 'knoop@umich.edu': 5,\n",
       " 'bkirschn@umich.edu': 27,\n",
       " 'dlhaines@umich.edu': 84,\n",
       " 'hu2@iupui.edu': 7,\n",
       " 'sgithens@caret.cam.ac.uk': 43,\n",
       " 'arwhyte@umich.edu': 27,\n",
       " 'gbhatnag@umich.edu': 3,\n",
       " 'gjthomas@iupui.edu': 44,\n",
       " 'a.fish@lancaster.ac.uk': 14,\n",
       " 'ajpoland@iupui.edu': 48,\n",
       " 'lance@indiana.edu': 8,\n",
       " 'ssmail@indiana.edu': 5,\n",
       " 'jlrenfro@ucdavis.edu': 1,\n",
       " 'nuno@ufp.pt': 28,\n",
       " 'zach.thomas@txstate.edu': 17,\n",
       " 'ktsao@stanford.edu': 12,\n",
       " 'ostermmg@whitman.edu': 17,\n",
       " 'john.ellis@rsmart.com': 8,\n",
       " 'jleasia@umich.edu': 2,\n",
       " 'ggolden@umich.edu': 8,\n",
       " 'thoppaymallika@fhda.edu': 1,\n",
       " 'kimsooil@bu.edu': 14,\n",
       " 'bahollad@indiana.edu': 4,\n",
       " 'jzaremba@unicon.net': 9,\n",
       " 'mbreuker@loi.nl': 9,\n",
       " 'colin.clark@utoronto.ca': 1}"
      ]
     },
     "execution_count": 10,
     "metadata": {},
     "output_type": "execute_result"
    }
   ],
   "source": [
    "count_message_from_email()"
   ]
  },
  {
   "cell_type": "code",
   "execution_count": 11,
   "metadata": {},
   "outputs": [],
   "source": [
    "def count_message_from_domain():\n",
    "    fhand = open('datasets/mbox.txt')\n",
    "    dic = dict()\n",
    "    for line in fhand:\n",
    "        line = line.rstrip()\n",
    "        if (line.startswith('From') and len(line.split())==7):\n",
    "            parts = line.split()[1]\n",
    "            a = parts.split('@')\n",
    "            dic[a[1]] = dic.get(a[1],0)+1\n",
    "    fhand.close()\n",
    "    return dic"
   ]
  },
  {
   "cell_type": "code",
   "execution_count": 12,
   "metadata": {},
   "outputs": [
    {
     "data": {
      "text/plain": [
       "{'uct.ac.za': 96,\n",
       " 'media.berkeley.edu': 56,\n",
       " 'umich.edu': 491,\n",
       " 'iupui.edu': 536,\n",
       " 'caret.cam.ac.uk': 157,\n",
       " 'gmail.com': 25,\n",
       " 'indiana.edu': 178,\n",
       " 'et.gatech.edu': 17,\n",
       " 'vt.edu': 110,\n",
       " 'lancaster.ac.uk': 14,\n",
       " 'ucdavis.edu': 1,\n",
       " 'ufp.pt': 28,\n",
       " 'txstate.edu': 17,\n",
       " 'stanford.edu': 12,\n",
       " 'whitman.edu': 17,\n",
       " 'rsmart.com': 8,\n",
       " 'fhda.edu': 1,\n",
       " 'bu.edu': 14,\n",
       " 'unicon.net': 9,\n",
       " 'loi.nl': 9,\n",
       " 'utoronto.ca': 1}"
      ]
     },
     "execution_count": 12,
     "metadata": {},
     "output_type": "execute_result"
    }
   ],
   "source": [
    "count_message_from_domain()"
   ]
  },
  {
   "cell_type": "code",
   "execution_count": null,
   "metadata": {},
   "outputs": [],
   "source": []
  }
 ],
 "metadata": {
  "kernelspec": {
   "display_name": "Python 3",
   "language": "python",
   "name": "python3"
  },
  "language_info": {
   "codemirror_mode": {
    "name": "ipython",
    "version": 3
   },
   "file_extension": ".py",
   "mimetype": "text/x-python",
   "name": "python",
   "nbconvert_exporter": "python",
   "pygments_lexer": "ipython3",
   "version": "3.8.5"
  },
  "toc": {
   "base_numbering": 1,
   "nav_menu": {},
   "number_sections": true,
   "sideBar": true,
   "skip_h1_title": false,
   "title_cell": "Table of Contents",
   "title_sidebar": "Contents",
   "toc_cell": false,
   "toc_position": {},
   "toc_section_display": true,
   "toc_window_display": false
  }
 },
 "nbformat": 4,
 "nbformat_minor": 2
}
